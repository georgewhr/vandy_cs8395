{
  "nbformat": 4,
  "nbformat_minor": 0,
  "metadata": {
    "colab": {
      "provenance": [],
      "authorship_tag": "ABX9TyPZ24lcW4yw2bjoEPXC6XL+",
      "include_colab_link": true
    },
    "kernelspec": {
      "name": "python3",
      "display_name": "Python 3"
    },
    "language_info": {
      "name": "python"
    }
  },
  "cells": [
    {
      "cell_type": "markdown",
      "metadata": {
        "id": "view-in-github",
        "colab_type": "text"
      },
      "source": [
        "<a href=\"https://colab.research.google.com/github/georgewhr/vandy_cs8395/blob/main/quantum_computing_grover.ipynb\" target=\"_parent\"><img src=\"https://colab.research.google.com/assets/colab-badge.svg\" alt=\"Open In Colab\"/></a>"
      ]
    },
    {
      "cell_type": "markdown",
      "source": [
        "# Grover's Algorithm with Qiskit\n",
        "\n",
        "## Introduction\n",
        "\n",
        "Grover's algorithm is a quantum algorithm for searching an unsorted database or an unordered list. It provides a quadratic speedup compared to classical algorithms. This notebook will guide you through the implementation of Grover's algorithm using Qiskit. For the details of Grover's algorithm, please see Grover's Algorithm in the [Qiskit textbook](https://github.com/Qiskit/textbook/tree/main/notebooks/ch-algorithms#).\n",
        "\n",
        "\n",
        "\n"
      ],
      "metadata": {
        "id": "06z_h_H7yY7X"
      }
    },
    {
      "cell_type": "markdown",
      "source": [
        "**References:**\n",
        "\n",
        "[1]: L. K. Grover, A fast quantum mechanical algorithm for database search. Proceedings 28th Annual Symposium on the Theory of Computing (STOC) 1996, pp. 212-219. https://arxiv.org/abs/quant-ph/9605043"
      ],
      "metadata": {
        "id": "IExMuCLSYGFy"
      }
    },
    {
      "cell_type": "markdown",
      "source": [
        "#Grover's Algorithm\n",
        "Grover’s Algorithm is essentially a search Algorithm. Consider an unsorted data strucutre with N entries, and there must be N-dimensiotn state space which is provided by log2N qubits.\n",
        "##Grover's Algorithm Baisc Strucutre\n",
        "**Initialization**:\n",
        "\n",
        "It starts by setting up a superposition of all possible states using quantum\n",
        "registers.\n",
        "\n",
        "**Oracle**:\n",
        "\n",
        "A function (oracle) is applied to flip the sign of the state corresponding to the solution.\n",
        "\n",
        "**Amplitude Amplification**:\n",
        "\n",
        "AKA diffuser function, A series of quantum operations (involving Hadamard transforms\n",
        "and conditional phase shifts) are used to increase the probability amplitude of the correct answer.\n",
        "\n",
        "**Measurement**:\n",
        "\n",
        "Finally, a measurement is performed, which, due to the amplitude\n",
        "amplification, is more likely to result in the correct answer.\n",
        "\n",
        "**Limitations**:\n",
        "\n",
        "While Grover's Algorithm is faster than any classical counterpart for its specific\n",
        "problem, it's still a probabilistic algorithm, meaning it finds the correct answer with high\n",
        "probability rather than certainty. Also, it offers a quadratic speedup, which is significant but less\n",
        "dramatic than the exponential speedup offered by some other quantum algorithms, like Shor's\n",
        "Algorithm.\n",
        "\n",
        "**Applications**:\n",
        "\n",
        "Its primary application is in database searching, but the principles of Grover's\n",
        "algorithm can be applied to a variety of other problems, such as solving NP-complete problems\n",
        "and cryptography\n"
      ],
      "metadata": {
        "id": "geJDVqpzYSpP"
      }
    },
    {
      "cell_type": "markdown",
      "source": [
        "#Running Grover's algorithm\n",
        "We first import a few qiskit library"
      ],
      "metadata": {
        "id": "nsE8JFROaht8"
      }
    },
    {
      "cell_type": "code",
      "source": [
        "!pip install matplotlib numpy qiskit qiskit_aer qiskit-algorithms pylatexenc\n",
        "import numpy as np\n",
        "from qiskit_aer import Aer\n",
        "from qiskit import QuantumCircuit, transpile\n",
        "from qiskit.visualization import plot_histogram\n",
        "import matplotlib.pyplot as plt"
      ],
      "metadata": {
        "id": "3ilq_ySRNjJS"
      },
      "execution_count": null,
      "outputs": []
    },
    {
      "cell_type": "markdown",
      "source": [
        "Then we define an Orcale function. The function consists of below steps:\n",
        "\n",
        "Init the oracle ciruit.\n",
        "\n",
        "Apply X gates to qubits that cooredsponds '0'\n",
        "\n",
        "Apply Hadamart gate\n",
        "\n",
        "Apply a Multi-Controlled Toffoli Gate\n",
        "\n",
        "Undo the initial X gates.\n",
        "\n",
        "Return the oracle gate\n"
      ],
      "metadata": {
        "id": "OJqACv2TOkmC"
      }
    },
    {
      "cell_type": "code",
      "source": [
        "def oracle(n, solution):\n",
        "    oracle_qc = QuantumCircuit(n)\n",
        "    for qubit in range(n):\n",
        "        if solution[qubit] == '0':\n",
        "            oracle_qc.x(qubit)\n",
        "    oracle_qc.h(n-1) # Apply Hadamart gate\n",
        "    oracle_qc.mcx(list(range(n-1)), n-1)\n",
        "    oracle_qc.h(n-1)\n",
        "    for qubit in range(n):\n",
        "        if solution[qubit] == '0':\n",
        "            oracle_qc.x(qubit)\n",
        "    oracle_qc = oracle_qc.to_gate()\n",
        "    oracle_qc.name = \"Oracle\"\n",
        "    return oracle_qc"
      ],
      "metadata": {
        "id": "AMCYNlqfC9SM"
      },
      "execution_count": null,
      "outputs": []
    },
    {
      "cell_type": "markdown",
      "source": [
        "Define Function of Diffuser(Amplification)\n",
        "\n"
      ],
      "metadata": {
        "id": "3WJyZQc6EFQV"
      }
    },
    {
      "cell_type": "code",
      "source": [
        "def diffuser(n):\n",
        "    diff_qc = QuantumCircuit(n) ## Init the diffuser circuit\n",
        "    diff_qc.h(range(n)) ## Apply Hadamard gate\n",
        "    diff_qc.x(range(n)) ## Apply X gate\n",
        "    diff_qc.h(n-1) ## Apply a Hadamard Gate to the Last Qubit\n",
        "    diff_qc.mcx(list(range(n-1)), n-1)\n",
        "    diff_qc.h(n-1)\n",
        "    diff_qc.x(range(n))\n",
        "    diff_qc.h(range(n))\n",
        "    diff_qc = diff_qc.to_gate()\n",
        "    diff_qc.name = \"Diffuser\"\n",
        "    return diff_qc"
      ],
      "metadata": {
        "id": "KggMU2XNELdd"
      },
      "execution_count": null,
      "outputs": []
    },
    {
      "cell_type": "markdown",
      "source": [
        "Init number of qubits we are going to use and the solution"
      ],
      "metadata": {
        "id": "7mE42bbSHWiB"
      }
    },
    {
      "cell_type": "code",
      "source": [
        "n = 3\n",
        "solution = '101'"
      ],
      "metadata": {
        "id": "W4fDN7P2HbHC"
      },
      "execution_count": null,
      "outputs": []
    },
    {
      "cell_type": "markdown",
      "source": [
        "Create the quantum circuit"
      ],
      "metadata": {
        "id": "u5wxoSNOHir1"
      }
    },
    {
      "cell_type": "code",
      "source": [
        "qc = QuantumCircuit(n, n)\n",
        "qc.h(range(n))"
      ],
      "metadata": {
        "id": "la0vMfIiHoU6",
        "colab": {
          "base_uri": "https://localhost:8080/"
        },
        "outputId": "d8085fe9-a0fb-4a83-b7fe-b0073352d8a9"
      },
      "execution_count": null,
      "outputs": [
        {
          "output_type": "execute_result",
          "data": {
            "text/plain": [
              "<qiskit.circuit.instructionset.InstructionSet at 0x793b137b86a0>"
            ]
          },
          "metadata": {},
          "execution_count": 12
        }
      ]
    },
    {
      "cell_type": "code",
      "source": [
        "\n",
        "# from qiskit.providers.aer import QasmSimulator\n",
        "\n",
        "# Function to create the oracle for a particular solution\n",
        "def oracle(n, solution):\n",
        "    oracle_qc = QuantumCircuit(n)\n",
        "    for qubit in range(n):\n",
        "        if solution[qubit] == '0':\n",
        "            oracle_qc.x(qubit)\n",
        "    oracle_qc.h(n-1)\n",
        "    oracle_qc.mcx(list(range(n-1)), n-1)  # Multi-controlled Toffoli gate\n",
        "    oracle_qc.h(n-1)\n",
        "    for qubit in range(n):\n",
        "        if solution[qubit] == '0':\n",
        "            oracle_qc.x(qubit)\n",
        "    oracle_qc = oracle_qc.to_gate()\n",
        "    oracle_qc.name = \"Oracle\"\n",
        "    return oracle_qc\n",
        "\n",
        "# Function to create the Grover diffuser\n",
        "def diffuser(n):\n",
        "    diff_qc = QuantumCircuit(n)\n",
        "    diff_qc.h(range(n))\n",
        "    diff_qc.x(range(n))\n",
        "    diff_qc.h(n-1)\n",
        "    diff_qc.mcx(list(range(n-1)), n-1)\n",
        "    diff_qc.h(n-1)\n",
        "    diff_qc.x(range(n))\n",
        "    diff_qc.h(range(n))\n",
        "    diff_qc = diff_qc.to_gate()\n",
        "    diff_qc.name = \"Diffuser\"\n",
        "    return diff_qc\n",
        "\n",
        "# Number of qubits\n",
        "n = 3  # For example, 3 qubits\n",
        "# Solution to search for\n",
        "solution = '101'\n",
        "\n",
        "# Create the quantum circuit\n",
        "qc = QuantumCircuit(n, n)\n",
        "qc.h(range(n))  # Apply Hadamard gates\n",
        "\n",
        "# Apply Grover's algorithm\n",
        "oracle_gate = oracle(n, solution)\n",
        "diffuser_gate = diffuser(n)\n",
        "\n",
        "# Number of Grover iterations\n",
        "num_iterations = int(np.floor(np.pi/4 * np.sqrt(2**n)))\n",
        "\n",
        "for _ in range(num_iterations):\n",
        "    qc.append(oracle_gate, range(n))\n",
        "    qc.append(diffuser_gate, range(n))\n",
        "\n",
        "# Measure the qubits\n",
        "qc.measure(range(n), range(n))\n",
        "\n",
        "# Execute the circuit\n",
        "backend = Aer.get_backend('qasm_simulator')\n",
        "new_c = transpile(qc, backend)\n",
        "result=backend.run(new_c).result()\n",
        "counts=result.get_counts()\n",
        "# counts = result.get_counts()\n",
        "\n",
        "# Print the results\n",
        "print(counts)\n",
        "keys = list(counts.keys())\n",
        "values = list(counts.values())\n",
        "\n",
        "plt.bar(keys, values)\n",
        "plt.xlabel('States')\n",
        "plt.ylabel('Counts')\n",
        "plt.title('Grover\\'s Algorithm Results')\n",
        "plt.show()"
      ],
      "metadata": {
        "id": "4-PB2ayFCwwf",
        "colab": {
          "base_uri": "https://localhost:8080/",
          "height": 490
        },
        "outputId": "c066027c-23bd-4f6d-ebff-1fdbec81713b"
      },
      "execution_count": null,
      "outputs": [
        {
          "output_type": "stream",
          "name": "stdout",
          "text": [
            "{'110': 10, '001': 10, '100': 10, '111': 5, '011': 9, '000': 7, '010': 10, '101': 963}\n"
          ]
        },
        {
          "output_type": "display_data",
          "data": {
            "text/plain": [
              "<Figure size 640x480 with 1 Axes>"
            ],
            "image/png": "[encoded data removed]"
          },
          "metadata": {}
        }
      ]
    },
    {
      "cell_type": "markdown",
      "source": [
        "## Conclusion\n",
        "The code successfully applies Grover's algorithm to find a solution to the search problem. By creating an oracle gate that marks the solution and a diffuser gate to amplify the probability amplitude of the correct solution, the algorithm performs the necessary number of Grover iterations, which is proportional to the square root of the search space size. After executing the quantum circuit on a QASM simulator backend, the resulting counts are measured and plotted. The output plot displays the frequency of each possible state, highlighting the increased likelihood of observing the correct solution, thereby demonstrating the effectiveness of Grover's algorithm in quantum search problems."
      ],
      "metadata": {
        "id": "eJL__7ucSpgd"
      }
    }
  ]
}